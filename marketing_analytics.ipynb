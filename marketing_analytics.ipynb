{
 "cells": [
  {
   "cell_type": "markdown",
   "metadata": {},
   "source": [
    "# Marketing Analytics"
   ]
  },
  {
   "cell_type": "markdown",
   "metadata": {},
   "source": [
    "An online retail business, is facing reduced customer engagement and conversion rates despite launching several new online marketing campaigns. They are reaching out to you to help conduct a detailed analysis and identify areas for improvement in their marketing strategies.\n"
   ]
  },
  {
   "cell_type": "markdown",
   "metadata": {},
   "source": [
    "#### Problems : \n",
    "1. Reduced Customer Engagement: The number of customer interactions and engagement with the site and marketing content has declined.\n",
    "2. Decreased Conversion Rates: Fewer site visitors are converting into paying customers.\n",
    "3.  High Marketing Expenses: Significant investments in marketing campaigns are not yielding expected returns.\n",
    "4. Need for Customer Feedback Analysis: Understanding customer opinions about products and services is crucial for improving engagement and conversions.\n"
   ]
  },
  {
   "cell_type": "code",
   "execution_count": 1,
   "metadata": {},
   "outputs": [],
   "source": [
    "import numpy as np \n",
    "import pandas as pd\n",
    "import matplotlib.pyplot as plt \n",
    "import pyodbc\n"
   ]
  },
  {
   "cell_type": "markdown",
   "metadata": {},
   "source": [
    "### Set Up the Connection to SQL Server"
   ]
  },
  {
   "cell_type": "code",
   "execution_count": 2,
   "metadata": {},
   "outputs": [
    {
     "name": "stdout",
     "output_type": "stream",
     "text": [
      "Connected to the database.\n"
     ]
    }
   ],
   "source": [
    "# Define connection parameters\n",
    "server = 'V_M_SUTHAR\\\\SQLEXPRESS;'\n",
    "database = 'Marketing'\n",
    "\n",
    "# Create a connection string\n",
    "connection_string = f\"DRIVER={{SQL Server}};SERVER={server};DATABASE={database};Trusted_Connection=yes\"\n",
    "conn = pyodbc.connect(connection_string)\n",
    "\n",
    "# Test the connection\n",
    "print(\"Connected to the database.\")"
   ]
  },
  {
   "cell_type": "markdown",
   "metadata": {},
   "source": [
    "### Load the Datasets into Pandas DataFrames"
   ]
  },
  {
   "cell_type": "code",
   "execution_count": 3,
   "metadata": {},
   "outputs": [
    {
     "name": "stderr",
     "output_type": "stream",
     "text": [
      "C:\\Users\\viraj\\AppData\\Local\\Temp\\ipykernel_10424\\2751482802.py:3: UserWarning: pandas only supports SQLAlchemy connectable (engine/connection) or database string URI or sqlite3 DBAPI2 connection. Other DBAPI2 objects are not tested. Please consider using SQLAlchemy.\n",
      "  customers_df = pd.read_sql(customers_query, conn)\n",
      "C:\\Users\\viraj\\AppData\\Local\\Temp\\ipykernel_10424\\2751482802.py:7: UserWarning: pandas only supports SQLAlchemy connectable (engine/connection) or database string URI or sqlite3 DBAPI2 connection. Other DBAPI2 objects are not tested. Please consider using SQLAlchemy.\n",
      "  geography_df = pd.read_sql(geography_query, conn)\n",
      "C:\\Users\\viraj\\AppData\\Local\\Temp\\ipykernel_10424\\2751482802.py:11: UserWarning: pandas only supports SQLAlchemy connectable (engine/connection) or database string URI or sqlite3 DBAPI2 connection. Other DBAPI2 objects are not tested. Please consider using SQLAlchemy.\n",
      "  reviews_df = pd.read_sql(reviews_query, conn)\n"
     ]
    }
   ],
   "source": [
    "# Example: Load customer data\n",
    "customers_query = \"SELECT * FROM dbo.customers;\"\n",
    "customers_df = pd.read_sql(customers_query, conn)\n",
    "\n",
    "# Example: Load geography data\n",
    "geography_query = \"SELECT * FROM dbo.geography;\"\n",
    "geography_df = pd.read_sql(geography_query, conn)\n",
    "\n",
    "# Example: Load other datasets as needed\n",
    "reviews_query = \"SELECT * FROM dbo.customer_reviews;\"\n",
    "reviews_df = pd.read_sql(reviews_query, conn)"
   ]
  },
  {
   "cell_type": "markdown",
   "metadata": {},
   "source": [
    "### Perform Data Processing and Cleaning in Python"
   ]
  },
  {
   "cell_type": "markdown",
   "metadata": {},
   "source": [
    "a. Join customers and geography"
   ]
  },
  {
   "cell_type": "code",
   "execution_count": 4,
   "metadata": {},
   "outputs": [],
   "source": [
    "# Left join customers with geography to enrich customer data with geographic information\n",
    "customers_geography_df = customers_df.merge(\n",
    "    geography_df, how='left', left_on='GeographyID', right_on='GeographyID'\n",
    ")"
   ]
  },
  {
   "cell_type": "markdown",
   "metadata": {},
   "source": [
    "b. Categorize Products Based on Price"
   ]
  },
  {
   "cell_type": "code",
   "execution_count": 5,
   "metadata": {},
   "outputs": [
    {
     "name": "stderr",
     "output_type": "stream",
     "text": [
      "C:\\Users\\viraj\\AppData\\Local\\Temp\\ipykernel_10424\\2528191736.py:3: UserWarning: pandas only supports SQLAlchemy connectable (engine/connection) or database string URI or sqlite3 DBAPI2 connection. Other DBAPI2 objects are not tested. Please consider using SQLAlchemy.\n",
      "  products_df = pd.read_sql(products_query, conn)\n"
     ]
    }
   ],
   "source": [
    "# Add a price category\n",
    "products_query = \"SELECT * FROM dbo.products;\"\n",
    "products_df = pd.read_sql(products_query, conn)\n",
    "\n",
    "products_df['PriceCategory'] = pd.cut(\n",
    "    products_df['Price'],\n",
    "    bins=[-float('inf'), 50, 200, float('inf')],\n",
    "    labels=['Low', 'Medium', 'High']\n",
    ")"
   ]
  },
  {
   "cell_type": "markdown",
   "metadata": {},
   "source": [
    "c. Clean Whitespace in ReviewText"
   ]
  },
  {
   "cell_type": "code",
   "execution_count": 6,
   "metadata": {},
   "outputs": [],
   "source": [
    "reviews_df['ReviewText'] = reviews_df['ReviewText'].str.replace('  ', ' ')"
   ]
  },
  {
   "cell_type": "markdown",
   "metadata": {},
   "source": [
    "d. Normalize engagement_data"
   ]
  },
  {
   "cell_type": "code",
   "execution_count": 7,
   "metadata": {},
   "outputs": [
    {
     "name": "stderr",
     "output_type": "stream",
     "text": [
      "C:\\Users\\viraj\\AppData\\Local\\Temp\\ipykernel_10424\\3222990855.py:2: UserWarning: pandas only supports SQLAlchemy connectable (engine/connection) or database string URI or sqlite3 DBAPI2 connection. Other DBAPI2 objects are not tested. Please consider using SQLAlchemy.\n",
      "  engagement_df = pd.read_sql(engagement_query, conn)\n"
     ]
    }
   ],
   "source": [
    "engagement_query = \"SELECT * FROM dbo.engagement_data;\"\n",
    "engagement_df = pd.read_sql(engagement_query, conn)\n",
    "\n",
    "# Normalize ContentType\n",
    "engagement_df['ContentType'] = engagement_df['ContentType'].str.replace(\n",
    "    'Socialmedia', 'Social Media'\n",
    ").str.upper()\n",
    "\n",
    "# Split ViewsClicksCombined into Views and Clicks\n",
    "engagement_df[['Views', 'Clicks']] = engagement_df['ViewsClicksCombined'].str.split('-', expand=True)\n",
    "\n",
    "# Format EngagementDate\n",
    "engagement_df['EngagementDate'] = pd.to_datetime(engagement_df['EngagementDate']).dt.strftime('%d.%m.%Y')"
   ]
  },
  {
   "cell_type": "markdown",
   "metadata": {},
   "source": [
    "e. Identify and Handle Duplicate Records in customer_journey"
   ]
  },
  {
   "cell_type": "code",
   "execution_count": 8,
   "metadata": {},
   "outputs": [
    {
     "name": "stderr",
     "output_type": "stream",
     "text": [
      "C:\\Users\\viraj\\AppData\\Local\\Temp\\ipykernel_10424\\2463068171.py:2: UserWarning: pandas only supports SQLAlchemy connectable (engine/connection) or database string URI or sqlite3 DBAPI2 connection. Other DBAPI2 objects are not tested. Please consider using SQLAlchemy.\n",
      "  journey_df = pd.read_sql(journey_query, conn)\n"
     ]
    }
   ],
   "source": [
    "journey_query = \"SELECT * FROM dbo.customer_journey;\"\n",
    "journey_df = pd.read_sql(journey_query, conn)\n",
    "\n",
    "# Add a row number column to identify duplicates\n",
    "journey_df['row_num'] = journey_df.groupby(\n",
    "    ['CustomerID', 'ProductID', 'VisitDate', 'Stage', 'Action']\n",
    ").cumcount() + 1\n",
    "\n",
    "# Remove duplicates, keeping the first occurrence\n",
    "cleaned_journey_df = journey_df[journey_df['row_num'] == 1].drop(columns=['row_num'])\n",
    "\n",
    "# Fill missing durations with average duration per date\n",
    "cleaned_journey_df['Duration'] = cleaned_journey_df['Duration'].fillna(\n",
    "    cleaned_journey_df.groupby('VisitDate')['Duration'].transform('mean')\n",
    ")"
   ]
  },
  {
   "cell_type": "markdown",
   "metadata": {},
   "source": [
    "### Save the Cleaned Data Back to SQL Server"
   ]
  },
  {
   "cell_type": "code",
   "execution_count": 9,
   "metadata": {},
   "outputs": [
    {
     "name": "stdout",
     "output_type": "stream",
     "text": [
      "DataFrame successfully saved to SQL Server.\n"
     ]
    }
   ],
   "source": [
    "from sqlalchemy import create_engine\n",
    "\n",
    "# Define parameters\n",
    "server = 'V_M_SUTHAR\\\\SQLEXPRESS'\n",
    "database = 'Marketing'\n",
    "\n",
    "# Create engine with the correct driver\n",
    "engine = create_engine(f\"mssql+pyodbc://@{server}/{database}?driver=ODBC+Driver+17+for+SQL+Server&trusted_connection=yes\")\n",
    "\n",
    "# Save cleaned DataFrame\n",
    "try:\n",
    "    cleaned_journey_df.to_sql('cleaned_customer_journey', engine, if_exists='replace', index=False)\n",
    "    print(\"DataFrame successfully saved to SQL Server.\")\n",
    "except Exception as e:\n",
    "    print(f\"Error: {e}\")\n"
   ]
  },
  {
   "cell_type": "markdown",
   "metadata": {},
   "source": [
    "### Export the Data to Files"
   ]
  },
  {
   "cell_type": "code",
   "execution_count": 26,
   "metadata": {},
   "outputs": [],
   "source": [
    "engagement_df.to_csv('Cleaned Data/cleaned_engagement.csv', index=False)\n",
    "reviews_df.to_csv('Cleaned Data/cleaned_reviews.csv', index=False)\n",
    "products_df.to_csv('Cleaned Data/cleaned_product.csv', index=False)\n",
    "customers_geography_df.to_csv('Cleaned Data/cleaned_customer_geography.csv', index=False)\n",
    "cleaned_journey_df.to_csv('Cleaned Data/cleaned_customer_journey.csv', index=False)\n",
    "# cleaned_journey_df.to_excel('Cleaned Data/cleaned_customer_journey.xlsx', index=False)"
   ]
  },
  {
   "cell_type": "markdown",
   "metadata": {},
   "source": [
    "## Customer Reviews Enrichment"
   ]
  },
  {
   "cell_type": "code",
   "execution_count": 11,
   "metadata": {},
   "outputs": [],
   "source": [
    "import pandas as pd\n",
    "import pyodbc\n",
    "import nltk\n",
    "from nltk.sentiment.vader import SentimentIntensityAnalyzer"
   ]
  },
  {
   "cell_type": "code",
   "execution_count": 12,
   "metadata": {},
   "outputs": [
    {
     "name": "stderr",
     "output_type": "stream",
     "text": [
      "[nltk_data] Downloading package vader_lexicon to\n",
      "[nltk_data]     C:\\Users\\viraj\\AppData\\Roaming\\nltk_data...\n",
      "[nltk_data]   Package vader_lexicon is already up-to-date!\n"
     ]
    },
    {
     "data": {
      "text/plain": [
       "True"
      ]
     },
     "execution_count": 12,
     "metadata": {},
     "output_type": "execute_result"
    }
   ],
   "source": [
    "# Download the VADER lexicon for sentiment analysis if not already present.\n",
    "nltk.download('vader_lexicon')"
   ]
  },
  {
   "cell_type": "code",
   "execution_count": 13,
   "metadata": {},
   "outputs": [],
   "source": [
    "# Define a function to fetch data from a SQL database using a SQL query\n",
    "def fetch_data_from_sql():\n",
    "\n",
    "    conn_str = (\n",
    "        \"Driver={SQL Server};\"  \n",
    "        \"Server=V_M_SUTHAR\\\\SQLEXPRESS;\"  \n",
    "        \"Database=Marketing;\"  \n",
    "        \"Trusted_Connection=yes;\" \n",
    "    )\n",
    "    # Establish the connection to the database\n",
    "    conn = pyodbc.connect(conn_str)\n",
    "    \n",
    "    # Define the SQL query to fetch customer reviews data\n",
    "    query = \"SELECT ReviewID, CustomerID, ProductID, ReviewDate, Rating, ReviewText FROM dbo.customer_reviews\"\n",
    "    \n",
    "    df = pd.read_sql(query, conn)\n",
    "    \n",
    "    conn.close()\n",
    "    \n",
    "    # Return the fetched data as a DataFrame\n",
    "    return df"
   ]
  },
  {
   "cell_type": "code",
   "execution_count": 14,
   "metadata": {},
   "outputs": [
    {
     "name": "stderr",
     "output_type": "stream",
     "text": [
      "C:\\Users\\viraj\\AppData\\Local\\Temp\\ipykernel_10424\\2708001989.py:16: UserWarning: pandas only supports SQLAlchemy connectable (engine/connection) or database string URI or sqlite3 DBAPI2 connection. Other DBAPI2 objects are not tested. Please consider using SQLAlchemy.\n",
      "  df = pd.read_sql(query, conn)\n"
     ]
    }
   ],
   "source": [
    "# Fetch the customer reviews data from the SQL database\n",
    "customer_reviews_df = fetch_data_from_sql()"
   ]
  },
  {
   "cell_type": "code",
   "execution_count": 15,
   "metadata": {},
   "outputs": [],
   "source": [
    "# Initialize the VADER sentiment intensity analyzer for analyzing the sentiment of text data\n",
    "sia = SentimentIntensityAnalyzer()"
   ]
  },
  {
   "cell_type": "code",
   "execution_count": 16,
   "metadata": {},
   "outputs": [],
   "source": [
    "# Define a function to calculate sentiment scores using VADER\n",
    "def calculate_sentiment(review):\n",
    "    sentiment = sia.polarity_scores(review)\n",
    "    # Return the compound score, which is a normalized score between -1 (most negative) and 1 (most positive)\n",
    "    return sentiment['compound']"
   ]
  },
  {
   "cell_type": "code",
   "execution_count": 17,
   "metadata": {},
   "outputs": [],
   "source": [
    "# Define a function to categorize sentiment using both the sentiment score and the review rating\n",
    "def categorize_sentiment(score, rating):\n",
    "\n",
    "    if score > 0.05:  # Positive sentiment score\n",
    "        if rating >= 4:\n",
    "            return 'Positive'  \n",
    "        elif rating == 3:\n",
    "            return 'Mixed Positive' \n",
    "        else:\n",
    "            return 'Mixed Negative'  \n",
    "    elif score < -0.05:  # Negative sentiment score\n",
    "        if rating <= 2:\n",
    "            return 'Negative'  \n",
    "        elif rating == 3:\n",
    "            return 'Mixed Negative'  \n",
    "        else:\n",
    "            return 'Mixed Positive'  \n",
    "    else:  # Neutral sentiment score\n",
    "        if rating >= 4:\n",
    "            return 'Positive'  \n",
    "        elif rating <= 2:\n",
    "            return 'Negative'  \n",
    "        else:\n",
    "            return 'Neutral'  "
   ]
  },
  {
   "cell_type": "code",
   "execution_count": 18,
   "metadata": {},
   "outputs": [],
   "source": [
    "# Define a function to bucket sentiment scores into text ranges\n",
    "def sentiment_bucket(score):\n",
    "    if score >= 0.5:\n",
    "        return '0.5 to 1.0'  \n",
    "    elif 0.0 <= score < 0.5:\n",
    "        return '0.0 to 0.49'  \n",
    "    elif -0.5 <= score < 0.0:\n",
    "        return '-0.49 to 0.0' \n",
    "    else:\n",
    "        return '-1.0 to -0.5' "
   ]
  },
  {
   "cell_type": "code",
   "execution_count": 19,
   "metadata": {},
   "outputs": [],
   "source": [
    "# Apply sentiment analysis to calculate sentiment scores for each review\n",
    "customer_reviews_df['SentimentScore'] = customer_reviews_df['ReviewText'].apply(calculate_sentiment)"
   ]
  },
  {
   "cell_type": "code",
   "execution_count": 20,
   "metadata": {},
   "outputs": [],
   "source": [
    "# Apply sentiment categorization using both text and rating\n",
    "customer_reviews_df['SentimentCategory'] = customer_reviews_df.apply(\n",
    "    lambda row: categorize_sentiment(row['SentimentScore'], row['Rating']), axis=1)\n"
   ]
  },
  {
   "cell_type": "code",
   "execution_count": 21,
   "metadata": {},
   "outputs": [],
   "source": [
    "# Apply sentiment bucketing to categorize scores into defined ranges\n",
    "customer_reviews_df['SentimentBucket'] = customer_reviews_df['SentimentScore'].apply(sentiment_bucket)"
   ]
  },
  {
   "cell_type": "code",
   "execution_count": 22,
   "metadata": {},
   "outputs": [
    {
     "name": "stdout",
     "output_type": "stream",
     "text": [
      "   ReviewID  CustomerID  ProductID  ReviewDate  Rating  \\\n",
      "0         1          77         18  2023-12-23       3   \n",
      "1         2          80         19  2024-12-25       5   \n",
      "2         3          50         13  2025-01-26       4   \n",
      "3         4          78         15  2025-04-21       3   \n",
      "4         5          64          2  2023-07-16       3   \n",
      "\n",
      "                                 ReviewText  SentimentScore SentimentCategory  \\\n",
      "0   Average  experience,  nothing  special.         -0.3089    Mixed Negative   \n",
      "1            The  quality  is    top-notch.          0.0000          Positive   \n",
      "2   Five  stars  for  the  quick  delivery.          0.0000          Positive   \n",
      "3  Good  quality,  but  could  be  cheaper.          0.2382    Mixed Positive   \n",
      "4   Average  experience,  nothing  special.         -0.3089    Mixed Negative   \n",
      "\n",
      "  SentimentBucket  \n",
      "0    -0.49 to 0.0  \n",
      "1     0.0 to 0.49  \n",
      "2     0.0 to 0.49  \n",
      "3     0.0 to 0.49  \n",
      "4    -0.49 to 0.0  \n"
     ]
    }
   ],
   "source": [
    "# Display the first few rows of the DataFrame with sentiment scores, categories, and buckets\n",
    "print(customer_reviews_df.head())"
   ]
  },
  {
   "cell_type": "code",
   "execution_count": 24,
   "metadata": {},
   "outputs": [],
   "source": [
    "# Save the DataFrame with sentiment scores, categories, and buckets to a new CSV file\n",
    "customer_reviews_df.to_csv('Cleaned Data/reviews_with_sentiment_new.csv', index=False)\n"
   ]
  },
  {
   "cell_type": "code",
   "execution_count": null,
   "metadata": {},
   "outputs": [],
   "source": []
  }
 ],
 "metadata": {
  "kernelspec": {
   "display_name": "Python 3",
   "language": "python",
   "name": "python3"
  },
  "language_info": {
   "codemirror_mode": {
    "name": "ipython",
    "version": 3
   },
   "file_extension": ".py",
   "mimetype": "text/x-python",
   "name": "python",
   "nbconvert_exporter": "python",
   "pygments_lexer": "ipython3",
   "version": "3.12.6"
  }
 },
 "nbformat": 4,
 "nbformat_minor": 2
}
